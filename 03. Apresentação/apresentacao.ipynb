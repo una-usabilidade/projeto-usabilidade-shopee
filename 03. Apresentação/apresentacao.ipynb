{
 "cells": [
  {
   "cell_type": "markdown",
   "metadata": {},
   "source": [
    "Para facilitar a explicação é sugerido que você siga o seguinte roteiro de apresentação: \n",
    "\n",
    "*    Motivação\n",
    "*    Problema\n",
    "*    Apresentação do Sistema/Funcionalidades. \n",
    "\n",
    "O grupo terá 5 minutos para apresentar.\n",
    "\n",
    "\n",
    "Todos os insumos produzidos devem ser adicionados à organização no GitHub.\n"
   ]
  }
 ],
 "metadata": {
  "language_info": {
   "name": "python"
  },
  "orig_nbformat": 4
 },
 "nbformat": 4,
 "nbformat_minor": 2
}
